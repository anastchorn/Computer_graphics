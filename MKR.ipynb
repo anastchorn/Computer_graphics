{
 "cells": [
  {
   "cell_type": "markdown",
   "id": "604fe5c9-ad8d-4bc6-be1e-898297cdeed1",
   "metadata": {},
   "source": [
    "**Варіант 18(9)**"
   ]
  },
  {
   "cell_type": "code",
   "execution_count": 9,
   "id": "528934f9-3aea-4983-8e1d-400904f125a1",
   "metadata": {},
   "outputs": [],
   "source": [
    "import numpy as np\n",
    "import matplotlib.pyplot as plt\n",
    "import math"
   ]
  },
  {
   "cell_type": "markdown",
   "id": "690adfc8-4be4-42d2-80a1-a9e41c62e2c3",
   "metadata": {},
   "source": [
    "Функція для переведення числа в базу-5"
   ]
  },
  {
   "cell_type": "code",
   "execution_count": 10,
   "id": "4081748c-9052-4d0a-afaf-faa8be62160f",
   "metadata": {},
   "outputs": [],
   "source": [
    "def to_base_5(n, length):\n",
    "    if n == 0:\n",
    "        return '0' * length\n",
    "    digits = []\n",
    "    while n:\n",
    "        digits.append(int(n % 5))\n",
    "        n //= 5\n",
    "    while len(digits) < length:\n",
    "        digits.append(0)\n",
    "    return ''.join(str(x) for x in digits[::-1])"
   ]
  },
  {
   "cell_type": "markdown",
   "id": "9db0ae97-2193-428b-a827-4cf5ebc0b721",
   "metadata": {},
   "source": [
    "Генерація точок в діапазоні [0, 1] для x та y без цифр 0 та 4 в базі-5"
   ]
  },
  {
   "cell_type": "code",
   "execution_count": 3,
   "id": "4a1b3daf-deae-43db-9be4-3e3dfa96fcb9",
   "metadata": {},
   "outputs": [
    {
     "name": "stdout",
     "output_type": "stream",
     "text": [
      "Згенеровано 729 точок.\n"
     ]
    }
   ],
   "source": [
    "def generate_fractal_points(base, depth):\n",
    "    valid_digits = [1, 2, 3]  \n",
    "    max_number = base**depth\n",
    "    points = []\n",
    "\n",
    "    for i in range(max_number):\n",
    "        x_base5 = to_base_5(i, depth)\n",
    "        if all(int(d) in valid_digits for d in x_base5):\n",
    "            x = sum(int(d) * (base**(-j-1)) for j, d in enumerate(x_base5))\n",
    "            for j in range(max_number):\n",
    "                y_base5 = to_base_5(j, depth)\n",
    "                if all(int(d) in valid_digits for d in y_base5):\n",
    "                    y = sum(int(d) * (base**(-k-1)) for k, d in enumerate(y_base5))\n",
    "                    points.append((x, y))\n",
    "\n",
    "    return points\n",
    "    \n",
    "base = 5\n",
    "depth = 3\n",
    "points = generate_fractal_points(base, depth)\n",
    "print(f\"Згенеровано {len(points)} точок.\")"
   ]
  },
  {
   "cell_type": "markdown",
   "id": "04442aec-5ffa-41da-841b-6153cfd0eebf",
   "metadata": {},
   "source": [
    "Обчислення фрактальної розмірності "
   ]
  },
  {
   "cell_type": "markdown",
   "id": "abeab3c7-0305-4e57-9877-e3879d87e783",
   "metadata": {},
   "source": [
    "Використаємо формулу: **$D = \\frac{\\log(N)}{\\log(S)}$**"
   ]
  },
  {
   "cell_type": "markdown",
   "id": "5fe6792d-48e3-478b-b81e-2cb7c530af8c",
   "metadata": {},
   "source": [
    "Масштабний фактор (S): Кожна координата у системі числення за основою 5 може мати лише цифри 1, 2, або 3, що означає, що при кожному кроці ми залишаємо лише 3/5 частини координат.\n",
    "Таким чином масштабний фактор S=5"
   ]
  },
  {
   "cell_type": "markdown",
   "id": "7d1efe99-976d-4183-a2e9-dc39f81bdd0c",
   "metadata": {},
   "source": [
    "Кількість копій (N): Ми залишаємо 3 допустимі цифри з 5 для кожної координати. На площині це означає, що для кожного квадрата розміру 1/5, ми маємо 3 можливих варіанти по горизонталі і 3 по вертикалі.\n",
    "Тобто N=3*3=9"
   ]
  },
  {
   "cell_type": "code",
   "execution_count": 13,
   "id": "c06ddfde-a646-4849-9437-89fb1775c7b9",
   "metadata": {},
   "outputs": [
    {
     "name": "stdout",
     "output_type": "stream",
     "text": [
      "Фрактальна розмірність: 1.36521\n"
     ]
    }
   ],
   "source": [
    "S=5\n",
    "N=9\n",
    "D=math.log(N) / math.log(S)\n",
    "print(f\"Фрактальна розмірність: {D:.5f}\")"
   ]
  },
  {
   "cell_type": "markdown",
   "id": "583b498a-499a-4153-897c-d9c6a2159256",
   "metadata": {},
   "source": [
    " Функція для побудови точок фракталу"
   ]
  },
  {
   "cell_type": "code",
   "execution_count": 5,
   "id": "419ee52d-93d9-463c-96be-1112123bc715",
   "metadata": {},
   "outputs": [
    {
     "data": {
      "image/png": "[encoded data removed]",
      "text/plain": [
       "<Figure size 640x480 with 1 Axes>"
      ]
     },
     "metadata": {},
     "output_type": "display_data"
    }
   ],
   "source": [
    "def plot_fractal(points):\n",
    "    x_vals = [p[0] for p in points]\n",
    "    y_vals = [p[1] for p in points]\n",
    "    plt.scatter(x_vals, y_vals, s=1)\n",
    "    plt.title('Точки фракталу')\n",
    "    plt.xlabel('x')\n",
    "    plt.ylabel('y')\n",
    "    plt.show()\n",
    "\n",
    "plot_fractal(points)\n"
   ]
  }
 ],
 "metadata": {
  "kernelspec": {
   "display_name": "Python 3 (ipykernel)",
   "language": "python",
   "name": "python3"
  },
  "language_info": {
   "codemirror_mode": {
    "name": "ipython",
    "version": 3
   },
   "file_extension": ".py",
   "mimetype": "text/x-python",
   "name": "python",
   "nbconvert_exporter": "python",
   "pygments_lexer": "ipython3",
   "version": "3.11.5"
  }
 },
 "nbformat": 4,
 "nbformat_minor": 5
}
